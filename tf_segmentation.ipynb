{
 "cells": [
  {
   "cell_type": "code",
   "execution_count": 1,
   "metadata": {},
   "outputs": [],
   "source": [
    "# # Cell 1: Install dependencies\n",
    "# # !pip install tensorflow opencv-python matplotlib\n",
    "\n",
    "# # Cell 2: Imports\n",
    "# import tensorflow as tf\n",
    "# import numpy as np\n",
    "# import cv2\n",
    "# import matplotlib.pyplot as plt\n",
    "# from pathlib import Path\n",
    "\n",
    "# # Cell 3: Load input image\n",
    "# def load_image(path, target_size=(256, 256)):\n",
    "#     img = cv2.imread(str(path))\n",
    "#     img = cv2.cvtColor(img, cv2.COLOR_BGR2RGB)\n",
    "#     img_resized = cv2.resize(img, target_size)\n",
    "#     img_norm = img_resized / 255.0  # normalize\n",
    "#     return img_resized, np.expand_dims(img_norm, axis=0)  # original + batch format\n",
    "\n",
    "# image_path = Path(\"input_image.jpg\")  # replace with your own\n",
    "# original_img, input_tensor = load_image(image_path)\n",
    "\n",
    "# # Cell 4: Show input\n",
    "# plt.figure(figsize=(6, 6))\n",
    "# plt.imshow(original_img)\n",
    "# plt.title(\"Input Image\")\n",
    "# plt.axis(\"off\")\n",
    "# plt.show()\n",
    "\n",
    "# # Cell 5: Load pretrained segmentation model\n",
    "# # Replace with your actual model path\n",
    "# model = tf.keras.models.load_model(\"models/segmentation_model\")\n",
    "\n",
    "# # Cell 6: Run prediction\n",
    "# prediction = model.predict(input_tensor)[0]  # shape: (H, W, C) or (H, W)\n",
    "# mask = np.argmax(prediction, axis=-1) if prediction.ndim == 3 else prediction\n",
    "# mask = mask.astype(np.uint8)\n",
    "\n",
    "# # Resize mask back to original size (optional)\n",
    "# mask_resized = cv2.resize(mask, (original_img.shape[1], original_img.shape[0]), interpolation=cv2.INTER_NEAREST)\n",
    "\n",
    "# # Cell 7: Visualize segmentation mask\n",
    "# plt.figure(figsize=(6, 6))\n",
    "# plt.imshow(mask_resized, cmap='jet')\n",
    "# plt.title(\"Predicted Segmentation Mask\")\n",
    "# plt.axis(\"off\")\n",
    "# plt.show()\n",
    "\n",
    "# # Cell 8: Overlay mask on original image\n",
    "# def overlay_mask(image, mask, alpha=0.5, colormap=cv2.COLORMAP_JET):\n",
    "#     color_mask = cv2.applyColorMap(mask * 10, colormap)  # scale for color map\n",
    "#     overlay = cv2.addWeighted(image, 1 - alpha, color_mask, alpha, 0)\n",
    "#     return overlay\n",
    "\n",
    "# overlay = overlay_mask(original_img, mask_resized)\n",
    "\n",
    "# plt.figure(figsize=(6, 6))\n",
    "# plt.imshow(overlay)\n",
    "# plt.title(\"Overlay: Image + Mask\")\n",
    "# plt.axis(\"off\")\n",
    "# plt.show()\n"
   ]
  },
  {
   "cell_type": "code",
   "execution_count": 2,
   "metadata": {},
   "outputs": [],
   "source": [
    "import ssl\n",
    "ssl._create_default_https_context = ssl._create_unverified_context"
   ]
  },
  {
   "cell_type": "code",
   "execution_count": null,
   "metadata": {},
   "outputs": [],
   "source": [
    "# Install TF Hub if needed\n",
    "# !pip install tensorflow tensorflow-hub\n",
    "\n",
    "import tensorflow as tf\n",
    "import tensorflow_hub as hub"
   ]
  },
  {
   "cell_type": "code",
   "execution_count": null,
   "metadata": {},
   "outputs": [
    {
     "ename": "TypeError",
     "evalue": "load() got an unexpected keyword argument 'verify'",
     "output_type": "error",
     "traceback": [
      "\u001b[31m---------------------------------------------------------------------------\u001b[39m",
      "\u001b[31mTypeError\u001b[39m                                 Traceback (most recent call last)",
      "\u001b[36mCell\u001b[39m\u001b[36m \u001b[39m\u001b[32mIn[5]\u001b[39m\u001b[32m, line 2\u001b[39m\n\u001b[32m      1\u001b[39m \u001b[38;5;66;03m# Load DeepLabV3+ pretrained model (MobileNetV2 backbone)\u001b[39;00m\n\u001b[32m----> \u001b[39m\u001b[32m2\u001b[39m model = \u001b[43mhub\u001b[49m\u001b[43m.\u001b[49m\u001b[43mload\u001b[49m\u001b[43m(\u001b[49m\u001b[33;43m\"\u001b[39;49m\u001b[33;43mhttps://tfhub.dev/tensorflow/deeplabv3-mobilenetv2-cityscapes/1\u001b[39;49m\u001b[33;43m\"\u001b[39;49m\u001b[43m,\u001b[49m\u001b[43m \u001b[49m\u001b[43mverify\u001b[49m\u001b[43m=\u001b[49m\u001b[38;5;28;43;01mFalse\u001b[39;49;00m\u001b[43m)\u001b[49m\n",
      "\u001b[31mTypeError\u001b[39m: load() got an unexpected keyword argument 'verify'"
     ]
    }
   ],
   "source": [
    "# Load DeepLabV3+ pretrained model (MobileNetV2 backbone)\n",
    "model = hub.load(\"https://tfhub.dev/tensorflow/deeplabv3-mobilenetv2-cityscapes/1\")"
   ]
  },
  {
   "cell_type": "code",
   "execution_count": null,
   "metadata": {},
   "outputs": [],
   "source": [
    "import urllib.request\n",
    "image_url = \"https://raw.githubusercontent.com/mcordts/cityscapesScripts/master/cityscapesscripts/helpers/example.png\"\n",
    "urllib.request.urlretrieve(image_url, \"cityscapes_sample.png\")\n"
   ]
  },
  {
   "cell_type": "code",
   "execution_count": null,
   "metadata": {},
   "outputs": [],
   "source": [
    "def preprocess_cityscapes_image(image_path):\n",
    "    image = tf.io.read_file(image_path)\n",
    "    image = tf.image.decode_png(image, channels=3)\n",
    "    image = tf.image.convert_image_dtype(image, tf.float32)\n",
    "    original_size = tf.shape(image)[:2]\n",
    "    resized_image = tf.image.resize(image, [513, 513])\n",
    "    return image, resized_image, original_size\n",
    "\n",
    "orig_img, input_img, orig_size = preprocess_cityscapes_image(\"cityscapes_sample.png\")\n",
    "\n",
    "# Run inference\n",
    "result = model(input_img[tf.newaxis, ...])\n",
    "seg_map = tf.argmax(result['default'][0], axis=-1)\n",
    "seg_map = tf.image.resize(seg_map[..., tf.newaxis], orig_size, method='nearest').numpy().squeeze()\n"
   ]
  },
  {
   "cell_type": "code",
   "execution_count": null,
   "metadata": {},
   "outputs": [],
   "source": [
    "# Resize mask back to original size (optional)\n",
    "mask_resized = cv2.resize(seg_map, (original_img.shape[1], original_img.shape[0]), interpolation=cv2.INTER_NEAREST)\n",
    "\n",
    "# Cell 7: Visualize segmentation mask\n",
    "plt.figure(figsize=(6, 6))\n",
    "plt.imshow(mask_resized, cmap='jet')\n",
    "plt.title(\"Predicted Segmentation Mask\")\n",
    "plt.axis(\"off\")\n",
    "plt.show()\n",
    "\n",
    "# Cell 8: Overlay mask on original image\n",
    "def overlay_mask(image, mask, alpha=0.5, colormap=cv2.COLORMAP_JET):\n",
    "    color_mask = cv2.applyColorMap(mask * 10, colormap)  # scale for color map\n",
    "    overlay = cv2.addWeighted(image, 1 - alpha, color_mask, alpha, 0)\n",
    "    return overlay\n",
    "\n",
    "overlay = overlay_mask(original_img, mask_resized)\n",
    "\n",
    "plt.figure(figsize=(6, 6))\n",
    "plt.imshow(overlay)\n",
    "plt.title(\"Overlay: Image + Mask\")\n",
    "plt.axis(\"off\")\n",
    "plt.show()"
   ]
  }
 ],
 "metadata": {
  "kernelspec": {
   "display_name": "nbcu",
   "language": "python",
   "name": "python3"
  },
  "language_info": {
   "codemirror_mode": {
    "name": "ipython",
    "version": 3
   },
   "file_extension": ".py",
   "mimetype": "text/x-python",
   "name": "python",
   "nbconvert_exporter": "python",
   "pygments_lexer": "ipython3",
   "version": "3.11.1"
  }
 },
 "nbformat": 4,
 "nbformat_minor": 2
}
