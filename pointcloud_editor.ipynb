{
 "cells": [
  {
   "cell_type": "code",
   "execution_count": null,
   "metadata": {
    "vscode": {
     "languageId": "plaintext"
    }
   },
   "outputs": [],
   "source": [
    "# Cell 1: Install dependencies\n",
    "# !pip install open3d ipywidgets matplotlib\n",
    "\n",
    "# Cell 2: Imports\n",
    "import open3d as o3d\n",
    "import numpy as np\n",
    "import matplotlib.pyplot as plt\n",
    "import ipywidgets as widgets\n",
    "from IPython.display import display, clear_output\n",
    "\n",
    "# Cell 3: Initialize a basic point cloud\n",
    "# Start with 5 points\n",
    "points = np.array([\n",
    "    [0.0, 0.0, 0.0],\n",
    "    [1.0, 0.0, 0.0],\n",
    "    [1.0, 1.0, 0.0],\n",
    "    [0.0, 1.0, 0.0],\n",
    "    [0.5, 0.5, 1.0]\n",
    "])\n",
    "pcd = o3d.geometry.PointCloud()\n",
    "pcd.points = o3d.utility.Vector3dVector(points)\n",
    "\n",
    "# Cell 4: Function to display point cloud\n",
    "def show_point_cloud(pcd):\n",
    "    o3d.visualization.draw_geometries([pcd])\n",
    "\n",
    "# Cell 5: Display the initial cloud\n",
    "print(\"Initial Point Cloud\")\n",
    "show_point_cloud(pcd)\n",
    "\n",
    "# Cell 6: Widgets to add new points\n",
    "x_input = widgets.FloatText(description='X:')\n",
    "y_input = widgets.FloatText(description='Y:')\n",
    "z_input = widgets.FloatText(description='Z:')\n",
    "add_button = widgets.Button(description='Add Point')\n",
    "\n",
    "output = widgets.Output()\n",
    "\n",
    "def on_add_point(b):\n",
    "    global points, pcd\n",
    "    new_point = np.array([[x_input.value, y_input.value, z_input.value]])\n",
    "    points = np.vstack((points, new_point))\n",
    "    pcd.points = o3d.utility.Vector3dVector(points)\n",
    "    \n",
    "    with output:\n",
    "        clear_output(wait=True)\n",
    "        print(f\"Added point: {new_point}\")\n",
    "        print(f\"Total points: {len(points)}\")\n",
    "        show_point_cloud(pcd)\n",
    "\n",
    "add_button.on_click(on_add_point)\n",
    "\n",
    "# Cell 7: Display the widget\n",
    "display(widgets.HBox([x_input, y_input, z_input, add_button]), output)\n"
   ]
  }
 ],
 "metadata": {
  "language_info": {
   "name": "python"
  }
 },
 "nbformat": 4,
 "nbformat_minor": 2
}
