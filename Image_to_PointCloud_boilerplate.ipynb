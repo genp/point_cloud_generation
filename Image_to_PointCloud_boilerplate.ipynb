{
 "cells": [
  {
   "cell_type": "code",
   "execution_count": 4,
   "metadata": {},
   "outputs": [],
   "source": [
    "# Cell 1: Install dependencies (if not done yet)\n",
    "# !pip install tensorflow opencv-python open3d matplotlib\n"
   ]
  },
  {
   "cell_type": "code",
   "execution_count": 2,
   "metadata": {},
   "outputs": [],
   "source": [
    "\n",
    "# Cell 2: Imports\n",
    "import tensorflow as tf\n",
    "import numpy as np\n",
    "import cv2\n",
    "import open3d as o3d\n",
    "import matplotlib.pyplot as plt\n",
    "from pathlib import Path\n"
   ]
  },
  {
   "cell_type": "code",
   "execution_count": null,
   "metadata": {},
   "outputs": [],
   "source": [
    "\n",
    "# Cell 3: Load aerial image\n",
    "def load_image(path, target_size=(256, 256)):\n",
    "    img = cv2.imread(str(path))\n",
    "    img = cv2.cvtColor(img, cv2.COLOR_BGR2RGB)\n",
    "    img_resized = cv2.resize(img, target_size)\n",
    "    img_norm = img_resized / 255.0  # normalize\n",
    "    return img_resized, np.expand_dims(imga_norm, axis=0)  # return original and batched version\n"
   ]
  },
  {
   "cell_type": "code",
   "execution_count": 6,
   "metadata": {},
   "outputs": [],
   "source": [
    "\n",
    "# Cell 7: Convert to Open3D point cloud and visualize\n",
    "def show_pointcloud(points):\n",
    "    pcd = o3d.geometry.PointCloud()\n",
    "    pcd.points = o3d.utility.Vector3dVector(points)\n",
    "    o3d.visualization.draw_geometries([pcd])"
   ]
  },
  {
   "cell_type": "code",
   "execution_count": null,
   "metadata": {},
   "outputs": [],
   "source": [
    "\n",
    "image_path = Path(\"aerial_image.jpg\")  # Replace with your image path\n",
    "original_img, input_tensor = load_image(image_path)\n",
    "\n",
    "# Cell 4: Display input image\n",
    "plt.figure(figsize=(6, 6))\n",
    "plt.imshow(original_img)\n",
    "plt.title(\"Input Aerial Image\")\n",
    "plt.axis(\"off\")\n",
    "plt.show()\n",
    "\n",
    "# Cell 5: Load pretrained TensorFlow model\n",
    "# Replace with your model path\n",
    "model = tf.keras.models.load_model(\"models/image_to_pointcloud_model\")\n",
    "\n",
    "# Cell 6: Predict point cloud\n",
    "# Assumes the model outputs Nx3 point coordinates\n",
    "predicted_points = model.predict(input_tensor)[0]  # shape: (N, 3)\n",
    "\n",
    "print(f\"Predicted {predicted_points.shape[0]} points.\")\n",
    "\n",
    "\n",
    "show_pointcloud(predicted_points)\n"
   ]
  }
 ],
 "metadata": {
  "kernelspec": {
   "display_name": "venv-metal",
   "language": "python",
   "name": "venv-metal"
  }
 },
 "nbformat": 4,
 "nbformat_minor": 2
}
